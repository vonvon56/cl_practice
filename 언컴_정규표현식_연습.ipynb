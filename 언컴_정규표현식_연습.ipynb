{
  "nbformat": 4,
  "nbformat_minor": 0,
  "metadata": {
    "colab": {
      "provenance": [],
      "authorship_tag": "ABX9TyMzf09NL5pkYYyeY1nmSzqc",
      "include_colab_link": true
    },
    "kernelspec": {
      "name": "python3",
      "display_name": "Python 3"
    },
    "language_info": {
      "name": "python"
    }
  },
  "cells": [
    {
      "cell_type": "markdown",
      "metadata": {
        "id": "view-in-github",
        "colab_type": "text"
      },
      "source": [
        "<a href=\"https://colab.research.google.com/github/vonvon56/cl_practice/blob/main/%EC%96%B8%EC%BB%B4_%EC%A0%95%EA%B7%9C%ED%91%9C%ED%98%84%EC%8B%9D_%EC%97%B0%EC%8A%B5.ipynb\" target=\"_parent\"><img src=\"https://colab.research.google.com/assets/colab-badge.svg\" alt=\"Open In Colab\"/></a>"
      ]
    },
    {
      "cell_type": "code",
      "execution_count": 1,
      "metadata": {
        "id": "2-8_AF0_dlS9"
      },
      "outputs": [],
      "source": [
        "import re"
      ]
    },
    {
      "cell_type": "code",
      "source": [
        "print(re.findall('.서울대입구역?', '서울대입구역 서울대입구 남서울대입구역'))"
      ],
      "metadata": {
        "colab": {
          "base_uri": "https://localhost:8080/"
        },
        "id": "WCkUXOR6fGQI",
        "outputId": "170fb478-bb1d-42ce-eb14-81619b1b97d2"
      },
      "execution_count": 4,
      "outputs": [
        {
          "output_type": "stream",
          "name": "stdout",
          "text": [
            "[' 서울대입구', '남서울대입구역']\n"
          ]
        }
      ]
    },
    {
      "cell_type": "markdown",
      "source": [
        "질문: 왜 findall 안되지"
      ],
      "metadata": {
        "id": "KPrpsdoKz-sC"
      }
    },
    {
      "cell_type": "code",
      "source": [
        "print(list(map(int, re.findall(r'\\d+', '1925 to 1983'))))\n",
        "print(re.sub(r'\\d+', '연도', '1925 to 1983'))\n",
        "print(re.findall('언|국어와 컴퓨터','언어와 컴퓨터 국어와 컴퓨터'))\n",
        "\n",
        "#이건 입구|설대입구 아닌가? 왜 안 되지?\n",
        "print(re.findall(r'(설대)?입구','입구 설대입구 대입구'))\n",
        "#findall 안되고 search/finditer 해야 했음\n",
        "for word in re.finditer(r'(설대)?입구','입구 설대입구 대입구'):\n",
        "    print(word.group())\n"
      ],
      "metadata": {
        "colab": {
          "base_uri": "https://localhost:8080/"
        },
        "id": "lRhXnybbf1z0",
        "outputId": "a5c84792-7fba-41b5-8546-1ae0b8378505"
      },
      "execution_count": 45,
      "outputs": [
        {
          "output_type": "stream",
          "name": "stdout",
          "text": [
            "[1925, 1983]\n",
            "연도 to 연도\n",
            "['Python', 'Java', 'C', '|']\n",
            "['언', '국어와 컴퓨터']\n",
            "['', '설대', '']\n",
            "입구\n",
            "설대입구\n",
            "입구\n"
          ]
        }
      ]
    },
    {
      "cell_type": "markdown",
      "source": [
        "질문"
      ],
      "metadata": {
        "id": "yHA6K_1vtKZg"
      }
    },
    {
      "cell_type": "code",
      "source": [
        "print(re.findall(r'Java|Python|C|\\|', 'Python, Java and C |'))\n",
        "print(re.findall('Java|Python|C|\\|', 'Python, Java and C |'))\n",
        "print(re.findall('Java|Python|C||', 'Python, Java and C |'))"
      ],
      "metadata": {
        "colab": {
          "base_uri": "https://localhost:8080/"
        },
        "id": "GeEONvj0wAfv",
        "outputId": "c58b2be0-c206-48db-f703-b6be4c31ced3"
      },
      "execution_count": 49,
      "outputs": [
        {
          "output_type": "stream",
          "name": "stdout",
          "text": [
            "['Python', 'Java', 'C', '|']\n",
            "['Python', 'Java', 'C', '|']\n",
            "['Python', '', '', 'Java', '', '', '', '', '', 'C', '', '', '']\n"
          ]
        }
      ]
    },
    {
      "cell_type": "code",
      "source": [
        "print(re.findall(r'\\.','.가나다\\.'))\n",
        "#.의 경우는 일상 기호로 보이게 하는데...여기는 r과 무슨 상관이지?\n",
        "print(re.findall('.','.가나다'))\n",
        "#왜 두번 나오지\n",
        "print(re.findall(r'\\\\','\\하하'))\n",
        "print(re.findall('is\\b','This is an island'))\n",
        "print(re.findall(r'is\\b','This is an island'))"
      ],
      "metadata": {
        "colab": {
          "base_uri": "https://localhost:8080/"
        },
        "id": "pFjCdGczyGNo",
        "outputId": "b127690e-5a47-48a0-e201-6a78a4d89439"
      },
      "execution_count": 65,
      "outputs": [
        {
          "output_type": "stream",
          "name": "stdout",
          "text": [
            "['.', '.']\n",
            "['.', '가', '나', '다']\n",
            "['\\\\']\n",
            "[]\n",
            "['is', 'is']\n"
          ]
        }
      ]
    },
    {
      "cell_type": "code",
      "source": [
        "print('부정형 전방탐색\\n')\n",
        "#이것도 문제가 있음\n",
        "text = '입구 설대입구 대입구'\n",
        "pattern = r'(설대)?입구(?! 대)'\n",
        "\n",
        "for match in re.finditer(pattern, text):\n",
        "    matched_text = match.group()\n",
        "    print(matched_text)\n",
        "\n",
        "\n",
        "print(re.findall('[rn]?ice','rice vice nice ice'))\n",
        "print(re.findall('ba{2,4}!','baa! baaaa baaa! baaaa!'))\n",
        "print(re.findall(r'(ba){2,4}!','baa! baaaa baaa! baaaa! baba! bababa! babababa!'))"
      ],
      "metadata": {
        "colab": {
          "base_uri": "https://localhost:8080/"
        },
        "id": "8WUfeEhVtFMw",
        "outputId": "7d0850cb-b3d3-4422-ec35-a85599730f7f"
      },
      "execution_count": 42,
      "outputs": [
        {
          "output_type": "stream",
          "name": "stdout",
          "text": [
            "부정형 전방탐색\n",
            "\n",
            "입구\n",
            "입구\n",
            "['rice', 'ice', 'nice', 'ice']\n",
            "['baa!', 'baaa!', 'baaaa!']\n",
            "['ba', 'ba', 'ba']\n"
          ]
        }
      ]
    },
    {
      "cell_type": "code",
      "source": [
        "import re\n",
        "\n",
        "text = '입구 설대입구 대입구'\n",
        "pattern = r'(설대)?입구(?= [^대])'\n",
        "\n",
        "for match in re.finditer(pattern, text):\n",
        "    matched_text = match.group()\n",
        "    print(matched_text)\n"
      ],
      "metadata": {
        "colab": {
          "base_uri": "https://localhost:8080/"
        },
        "id": "Q0z4YTg_qunG",
        "outputId": "9f443680-50c5-4cce-f363-3937fcb8fb95"
      },
      "execution_count": 39,
      "outputs": [
        {
          "output_type": "stream",
          "name": "stdout",
          "text": [
            "입구\n"
          ]
        }
      ]
    },
    {
      "cell_type": "code",
      "source": [
        "print(re.findall('[^0-9 ]','2022년 10월 8일'))\n",
        "print(re.findall('\\D', '2022년 10월 8일'))\n",
        "print(re.findall('\\S', '2022년 10월 8일'))"
      ],
      "metadata": {
        "colab": {
          "base_uri": "https://localhost:8080/"
        },
        "id": "NEf_CGdM0np_",
        "outputId": "95167682-1d74-49c3-d76f-89cf8253380c"
      },
      "execution_count": 68,
      "outputs": [
        {
          "output_type": "stream",
          "name": "stdout",
          "text": [
            "['년', '월', '일']\n",
            "['년', ' ', '월', ' ', '일']\n",
            "['2', '0', '2', '2', '년', '1', '0', '월', '8', '일']\n"
          ]
        }
      ]
    },
    {
      "cell_type": "code",
      "source": [
        "print(re.findall('[a-z]{2}?','hello, world!'))"
      ],
      "metadata": {
        "colab": {
          "base_uri": "https://localhost:8080/"
        },
        "id": "wQrIFLlA4jLh",
        "outputId": "72805710-f2c6-443b-e2c2-67c813a2b96e"
      },
      "execution_count": 69,
      "outputs": [
        {
          "output_type": "stream",
          "name": "stdout",
          "text": [
            "['he', 'll', 'wo', 'rl']\n"
          ]
        }
      ]
    },
    {
      "cell_type": "markdown",
      "source": [
        "# **그룹핑**\n",
        "\n",
        "(?P<이름>블라블라)\n",
        "\n",
        "변수명.group('이름')"
      ],
      "metadata": {
        "id": "5t6mtD1A5ilS"
      }
    },
    {
      "cell_type": "code",
      "source": [
        "\n",
        "pattern = 'https?://www.(?P<pagename>\\w+)\\.(\\w+)\\.kr'\n",
        "emails = re.finditer(pattern, '''\n",
        "http://www.nec.go.kr\n",
        "http://www.ccourt.go.kr\n",
        "https://www.assembly.go.kr\n",
        "https://www.mohw.go.kr\n",
        "http://www.mois.go.kr\n",
        "http://www.me.go.kr''')\n",
        "\n",
        "for email in emails:\n",
        "    print(email.group('pagename'))"
      ],
      "metadata": {
        "colab": {
          "base_uri": "https://localhost:8080/"
        },
        "id": "eNjgPu5q4sSF",
        "outputId": "2b125bd3-5f43-48fe-93ca-d3923face700"
      },
      "execution_count": 73,
      "outputs": [
        {
          "output_type": "stream",
          "name": "stdout",
          "text": [
            "nec\n",
            "ccourt\n",
            "assembly\n",
            "mohw\n",
            "mois\n",
            "me\n"
          ]
        }
      ]
    },
    {
      "cell_type": "code",
      "source": [
        "pattern = re.compile(r'ling(?P<filename>[A-Z0-9]{3})\\.txt')\n",
        "files = pattern.finditer(\"\"\"\n",
        "ling000.txt\n",
        "ling001.txt\n",
        "ling002.txt\n",
        "ling003.txt\n",
        "ling009.txt\n",
        "…\n",
        "ling00A.txt\n",
        "ling00B.txt\n",
        "…\n",
        "ling00F.txt\n",
        "ling0F0.txt\n",
        "ling0F1.txt\n",
        "ling0F2.txt\n",
        "ling0F3.txt\n",
        "ling0F9.txt\n",
        "…\n",
        "ling0FA.txt\n",
        "ling0FB.txt\n",
        "…\n",
        "\n",
        "\"\"\")\n",
        "for f in files:\n",
        "    print(f.group('filename'))"
      ],
      "metadata": {
        "colab": {
          "base_uri": "https://localhost:8080/"
        },
        "id": "GPCkotbD55Am",
        "outputId": "0b0366ca-e47a-4883-dd2e-3ee8f1027276"
      },
      "execution_count": 75,
      "outputs": [
        {
          "output_type": "stream",
          "name": "stdout",
          "text": [
            "000\n",
            "001\n",
            "002\n",
            "003\n",
            "009\n",
            "00A\n",
            "00B\n",
            "00F\n",
            "0F0\n",
            "0F1\n",
            "0F2\n",
            "0F3\n",
            "0F9\n",
            "0FA\n",
            "0FB\n"
          ]
        }
      ]
    },
    {
      "cell_type": "code",
      "source": [
        "pattern = re.compile(r'''(?P<id>[a-zA-Z0-9._-]+)@\n",
        "(?P<domain>[a-z]+\\.\n",
        "([a-z]+)\n",
        "(\\.[a-z]+)?)'''\n",
        ",re.VERBOSE)\n",
        "dd = dict()\n",
        "emails = pattern.finditer(\"\"\"\n",
        "주소가 다음과 같은 이메일을 모두 커버하도록 정규표현식을 작성하면?\n",
        "sanalee@snu.ac.kr\n",
        "a823817@naver.com\n",
        "so_oz@gmail.com\n",
        "guest.1974@gmail.com\n",
        "info-service@jus.gov.ar\n",
        "support_-_@twitter.com\n",
        "\n",
        "\"\"\")\n",
        "\n",
        "for email in emails:\n",
        "    print('아이디', email.group('id'))\n",
        "    print('도메인', email.group('domain'))\n",
        "    print()\n",
        "    dd[email.group('id')] = email.group('domain')\n",
        "print(dd)"
      ],
      "metadata": {
        "colab": {
          "base_uri": "https://localhost:8080/"
        },
        "id": "aaRDtm246eWB",
        "outputId": "e606a08b-a666-43ae-9029-f824b066d86e"
      },
      "execution_count": 89,
      "outputs": [
        {
          "output_type": "stream",
          "name": "stdout",
          "text": [
            "아이디 sanalee\n",
            "도메인 snu.ac.kr\n",
            "\n",
            "아이디 a823817\n",
            "도메인 naver.com\n",
            "\n",
            "아이디 so_oz\n",
            "도메인 gmail.com\n",
            "\n",
            "아이디 guest.1974\n",
            "도메인 gmail.com\n",
            "\n",
            "아이디 info-service\n",
            "도메인 jus.gov.ar\n",
            "\n",
            "아이디 support_-_\n",
            "도메인 twitter.com\n",
            "\n",
            "{'sanalee': 'snu.ac.kr', 'a823817': 'naver.com', 'so_oz': 'gmail.com', 'guest.1974': 'gmail.com', 'info-service': 'jus.gov.ar', 'support_-_': 'twitter.com'}\n"
          ]
        }
      ]
    }
  ]
}