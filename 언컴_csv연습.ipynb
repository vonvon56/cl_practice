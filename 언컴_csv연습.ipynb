{
  "nbformat": 4,
  "nbformat_minor": 0,
  "metadata": {
    "colab": {
      "provenance": [],
      "authorship_tag": "ABX9TyMbrJ6ZtcBxMcoxYfXPBUEK",
      "include_colab_link": true
    },
    "kernelspec": {
      "name": "python3",
      "display_name": "Python 3"
    },
    "language_info": {
      "name": "python"
    }
  },
  "cells": [
    {
      "cell_type": "markdown",
      "metadata": {
        "id": "view-in-github",
        "colab_type": "text"
      },
      "source": [
        "<a href=\"https://colab.research.google.com/github/vonvon56/cl_practice/blob/main/%EC%96%B8%EC%BB%B4_csv%EC%97%B0%EC%8A%B5.ipynb\" target=\"_parent\"><img src=\"https://colab.research.google.com/assets/colab-badge.svg\" alt=\"Open In Colab\"/></a>"
      ]
    },
    {
      "cell_type": "code",
      "execution_count": null,
      "metadata": {
        "colab": {
          "base_uri": "https://localhost:8080/"
        },
        "id": "SI-TNE8AWakJ",
        "outputId": "2646014e-642f-49fc-d10b-b2aaaaae11aa"
      },
      "outputs": [
        {
          "output_type": "stream",
          "name": "stdout",
          "text": [
            "!\n"
          ]
        }
      ],
      "source": [
        "print('!')"
      ]
    },
    {
      "cell_type": "code",
      "source": [
        "import re"
      ],
      "metadata": {
        "id": "qzMiMiupWenL"
      },
      "execution_count": null,
      "outputs": []
    },
    {
      "cell_type": "code",
      "source": [
        "text = 'bat.txt'\n",
        "p = re.compile('.*[.](?!bat$).*$')\n",
        "p.match(text)"
      ],
      "metadata": {
        "colab": {
          "base_uri": "https://localhost:8080/"
        },
        "id": "z54OaK_LWez2",
        "outputId": "7799dcc9-8eca-4313-fe3f-89271662de96"
      },
      "execution_count": null,
      "outputs": [
        {
          "output_type": "execute_result",
          "data": {
            "text/plain": [
              "<re.Match object; span=(0, 7), match='bat.txt'>"
            ]
          },
          "metadata": {},
          "execution_count": 5
        }
      ]
    },
    {
      "cell_type": "code",
      "source": [
        "text = '''\n",
        "010-9926-1574 황경서!\n",
        "010-2379-9204 강영웅\n",
        "01036782210 이지민\n",
        "01012345678강민지\n",
        "'''\n",
        "phone_number = []\n",
        "names = []\n",
        "\n",
        "p = re.compile(r'(?P<first>\\d{3})-?(?P<second>\\d{4})-?(?P<third>\\d{4}) ?(?P<name>\\w+)',re.MULTILINE)\n",
        "all = p.finditer(text)\n",
        "for a in all:\n",
        "    pn = ''.join([a.group('first'),'-',a.group('second'),'-',a.group('third')])\n",
        "    phone_number.append(pn)\n",
        "    #print(a.group('second'))\n",
        "    #print(a.group('third'))\n",
        "    names.append(a.group('name'))\n",
        "print(phone_number, names)\n",
        "dd = dict(zip(names, phone_number))\n",
        "print(dd)"
      ],
      "metadata": {
        "colab": {
          "base_uri": "https://localhost:8080/"
        },
        "id": "rcmA250fX_0U",
        "outputId": "475a1d53-86df-4af2-b66f-29a08e344137"
      },
      "execution_count": null,
      "outputs": [
        {
          "output_type": "stream",
          "name": "stdout",
          "text": [
            "['010-9926-1574', '010-2379-9204', '010-3678-2210', '010-1234-5678'] ['황경서', '강영웅', '이지민', '강민지']\n",
            "{'황경서': '010-9926-1574', '강영웅': '010-2379-9204', '이지민': '010-3678-2210', '강민지': '010-1234-5678'}\n"
          ]
        }
      ]
    },
    {
      "cell_type": "code",
      "source": [
        "data = \"\"\"\n",
        "park 800905-1049118\n",
        "kim  700905-1059119\n",
        "\"\"\"\n",
        "p = re.compile(r\"(?P<front>\\d{6})-(?P<behind>\\d{7})$\", re.MULTILINE)\n",
        "print(p.sub(\"\\g<front>\"+'-'+'*'*len(\"\\g<behind>\")+'\\g<behind>', data))"
      ],
      "metadata": {
        "colab": {
          "base_uri": "https://localhost:8080/"
        },
        "id": "17kKu5msdFy-",
        "outputId": "7235924d-73cb-4dcf-f459-3be59bc53fca"
      },
      "execution_count": null,
      "outputs": [
        {
          "output_type": "stream",
          "name": "stdout",
          "text": [
            "\n",
            "park 800905-**********1049118\n",
            "kim  700905-**********1059119\n",
            "\n"
          ]
        }
      ]
    },
    {
      "cell_type": "code",
      "source": [
        "import re\n",
        "\n",
        "data = \"\"\"\n",
        "park 800905-1049118\n",
        "kim  700905-1059119\n",
        "\"\"\"\n",
        "\n",
        "# 정규식에서 그룹 이름을 지정할 때는 \"<\"와 \">\" 사이에 이름을 넣어야 합니다.\n",
        "p = re.compile(r\"(?P<front>\\d{6})-(?P<behind>\\d{7})\")\n",
        "# \\g<그룹이름> 형식으로 그룹 이름을 참조해야 합니다.\n",
        "print(p.sub(\"\\g<front>\"+'-'+'*'*len(\"\\g<behind>\"), data))\n"
      ],
      "metadata": {
        "colab": {
          "base_uri": "https://localhost:8080/"
        },
        "id": "rc1VwglhfbvT",
        "outputId": "1657f9bf-14ba-4ee6-d5b4-43a27053da3e"
      },
      "execution_count": null,
      "outputs": [
        {
          "output_type": "stream",
          "name": "stdout",
          "text": [
            "\n",
            "park 800905-**********\n",
            "kim  700905-**********\n",
            "\n"
          ]
        }
      ]
    },
    {
      "cell_type": "code",
      "source": [
        "import re\n",
        "\n",
        "data = \"\"\"\n",
        "park 800905-1049118\n",
        "kim  700905-1059119\n",
        "\"\"\"\n",
        "\n",
        "p = re.compile(r\"(?P<front>\\d{6})-(?P<behind>\\d{7})\")\n",
        "result = p.sub(lambda x: x.group('front') + '-' + '*' * len(x.group('behind')), data)\n",
        "print(result)"
      ],
      "metadata": {
        "colab": {
          "base_uri": "https://localhost:8080/"
        },
        "id": "sMR7vBG-fhYV",
        "outputId": "20741cb6-a84b-4aa0-c97e-83dfafde9250"
      },
      "execution_count": null,
      "outputs": [
        {
          "output_type": "stream",
          "name": "stdout",
          "text": [
            "\n",
            "park 800905-*******\n",
            "kim  700905-*******\n",
            "\n"
          ]
        }
      ]
    },
    {
      "cell_type": "code",
      "source": [
        "result = re.sub(r\"(?P<front>\\d{6})-(?P<behind>\\d{7})\", lambda x: x.group('front') + '-' + '*' * len(x.group('behind')), data)\n",
        "print(result)"
      ],
      "metadata": {
        "colab": {
          "base_uri": "https://localhost:8080/"
        },
        "id": "P6iC-6q2gVfo",
        "outputId": "fd8b5796-2266-41e3-9984-6db5880f85e2"
      },
      "execution_count": null,
      "outputs": [
        {
          "output_type": "stream",
          "name": "stdout",
          "text": [
            "\n",
            "park 800905-*******\n",
            "kim  700905-*******\n",
            "\n"
          ]
        }
      ]
    },
    {
      "cell_type": "code",
      "source": [
        "import re\n",
        "\n",
        "p = re.compile('^[a-zA-Z0-9+-_.]+@[a-zA-Z0-9-]+\\.[a-zA-Z0-9-.]+$')\n",
        "emails = ['python@mail.example.com', 'python+kr@example.com',              # 올바른 형식\n",
        "          'python-dojang@example.co.kr', 'python_10@example.info',         # 올바른 형식\n",
        "          'python.dojang@e-xample.com',                                    # 올바른 형식\n",
        "          '@example.com', 'python@example', 'python@example-com']          # 잘못된 형식\n",
        "\n",
        "for email in emails:\n",
        "    print(p.match(email) != None, end=' ')"
      ],
      "metadata": {
        "colab": {
          "base_uri": "https://localhost:8080/"
        },
        "id": "8iMfDRgOvjEG",
        "outputId": "ec5e0c9d-d70f-44d1-e5ca-998aadc5c2f2"
      },
      "execution_count": null,
      "outputs": [
        {
          "output_type": "stream",
          "name": "stdout",
          "text": [
            "True True True True True False False False "
          ]
        }
      ]
    },
    {
      "cell_type": "code",
      "source": [
        "p = re.compile('https?://()')\n",
        "text = 'https://'\n",
        "print(p.match(text))"
      ],
      "metadata": {
        "colab": {
          "base_uri": "https://localhost:8080/"
        },
        "id": "5NvXpIeDwKZf",
        "outputId": "25806497-09b6-4b49-e01e-60babaa334c0"
      },
      "execution_count": null,
      "outputs": [
        {
          "output_type": "stream",
          "name": "stdout",
          "text": [
            "<re.Match object; span=(0, 8), match='https://'>\n"
          ]
        }
      ]
    },
    {
      "cell_type": "code",
      "source": [
        "class Clock:\n",
        "    def __init__(self, hour, minute, second):\n",
        "        self.num = 3600*hour + 60*minute + second\n",
        "        if self.num >= 3600*24:\n",
        "            self.num -= 3600*24\n",
        "        self.hour = hour\n",
        "        self.minute = minute\n",
        "        self.second = second\n",
        "\n",
        "    def __str__(self):\n",
        "        return ':'.join(list(map(lambda x:str(x).rjust(2,'0'),[self.hour, self.minute, self.second])))\n",
        "\n",
        "    def tick(self):\n",
        "        self.num += 1\n",
        "        if self.num >= 3600*8:\n",
        "            self.num -= 3600*8\n",
        "        self.hour = self.num // 3600\n",
        "        self.minute = (self.num % 3600) // 60\n",
        "        self.second =  self.num % 60\n",
        "        #self.minute, self.second = divmod(self.num)\n",
        "    def set(self, hour, minute, second):\n",
        "        self.num = 3600*hour + 60*minute + second\n",
        "        if self.num >= 3600*24:\n",
        "            self.num -= 3600*24\n",
        "        #print('초단위',self.num)\n",
        "        self.hour = hour\n",
        "        self.minute = minute\n",
        "        self.second = second"
      ],
      "metadata": {
        "id": "0_YD2_mqa7WQ"
      },
      "execution_count": null,
      "outputs": []
    },
    {
      "cell_type": "code",
      "source": [
        "clock = Clock(1, 30, 48)\n",
        "\n",
        "# 13초를 늘린다\n",
        "for i in range(13):\n",
        "    clock.tick()\n",
        "\n",
        "# 시계의 현재 시간 출력\n",
        "print(clock)\n",
        "\n",
        "# 2시 3분 58초로 시계 세팅\n",
        "clock.set(2, 3, 58)\n",
        "\n",
        "# 5초를 늘린다\n",
        "for i in range(5):\n",
        "    clock.tick()\n",
        "\n",
        "# 시계의 현재 시간 출력\n",
        "print(clock)\n",
        "\n",
        "# 23시 59분 57초로 세팅\n",
        "clock.set(23, 59, 57)\n",
        "\n",
        "# 5초를 늘린다\n",
        "for i in range(5):\n",
        "    clock.tick()\n",
        "\n",
        "# 시계의 현재 시간 출력\n",
        "print(clock)"
      ],
      "metadata": {
        "colab": {
          "base_uri": "https://localhost:8080/"
        },
        "id": "W9lmudDydQ89",
        "outputId": "c4bd2efe-9675-4b91-e8a9-d0bee3254285"
      },
      "execution_count": null,
      "outputs": [
        {
          "output_type": "stream",
          "name": "stdout",
          "text": [
            "01:31:01\n",
            "02:04:03\n",
            "00:00:02\n"
          ]
        }
      ]
    },
    {
      "cell_type": "code",
      "source": [
        "s = '언컴'\n",
        "transcripted_s = s.encode('utf-8')\n",
        "print(transcripted_s)\n",
        "restored_s = transcripted_s.decode('utf-8')\n",
        "print(restored_s)"
      ],
      "metadata": {
        "colab": {
          "base_uri": "https://localhost:8080/"
        },
        "id": "sGMUclGnZXmy",
        "outputId": "f8c97c8e-f729-49e1-cf9b-ef0b65b51f4c"
      },
      "execution_count": null,
      "outputs": [
        {
          "output_type": "stream",
          "name": "stdout",
          "text": [
            "b'\\xec\\x96\\xb8\\xec\\xbb\\xb4'\n",
            "언컴\n"
          ]
        }
      ]
    },
    {
      "cell_type": "code",
      "source": [
        "c = '가'\n",
        "#숫자로 변환: ord\n",
        "print(ord(c))\n",
        "#글자로 변환: chr\n",
        "print(chr(44032))\n",
        "#숫자를 16진수 유니코드로 변환: hex\n",
        "print(hex(ord(c)))"
      ],
      "metadata": {
        "colab": {
          "base_uri": "https://localhost:8080/"
        },
        "id": "1SFb5vpIeddY",
        "outputId": "38c1207e-cdf9-4d6a-d661-6dc0e86e3e52"
      },
      "execution_count": null,
      "outputs": [
        {
          "output_type": "stream",
          "name": "stdout",
          "text": [
            "44032\n",
            "가\n",
            "0xac00\n"
          ]
        }
      ]
    },
    {
      "cell_type": "code",
      "source": [
        "!wget https://raw.githubusercontent.com/python/cpython/main/Lib/test/cjkencodings/cp949-utf8.txt\n"
      ],
      "metadata": {
        "colab": {
          "base_uri": "https://localhost:8080/"
        },
        "id": "8qbIEwqzfKjq",
        "outputId": "ebf89c01-0082-4db0-e0d2-3327755a76ee"
      },
      "execution_count": null,
      "outputs": [
        {
          "output_type": "stream",
          "name": "stdout",
          "text": [
            "--2023-09-23 10:01:31--  https://raw.githubusercontent.com/python/cpython/main/Lib/test/cjkencodings/cp949-utf8.txt\n",
            "Resolving raw.githubusercontent.com (raw.githubusercontent.com)... 185.199.109.133, 185.199.111.133, 185.199.108.133, ...\n",
            "Connecting to raw.githubusercontent.com (raw.githubusercontent.com)|185.199.109.133|:443... connected.\n",
            "HTTP request sent, awaiting response... 200 OK\n",
            "Length: 478 [text/plain]\n",
            "Saving to: ‘cp949-utf8.txt’\n",
            "\n",
            "\rcp949-utf8.txt        0%[                    ]       0  --.-KB/s               \rcp949-utf8.txt      100%[===================>]     478  --.-KB/s    in 0s      \n",
            "\n",
            "2023-09-23 10:01:31 (19.0 MB/s) - ‘cp949-utf8.txt’ saved [478/478]\n",
            "\n"
          ]
        }
      ]
    },
    {
      "cell_type": "code",
      "source": [
        "!wget https://raw.githubusercontent.com/python/cpython/main/Lib/test/cjkencodings/euc_kr.txt"
      ],
      "metadata": {
        "colab": {
          "base_uri": "https://localhost:8080/"
        },
        "id": "gDjlywTMfTH0",
        "outputId": "6229cd35-a689-4754-8402-827e6a0384db"
      },
      "execution_count": null,
      "outputs": [
        {
          "output_type": "stream",
          "name": "stdout",
          "text": [
            "--2023-09-23 10:02:51--  https://raw.githubusercontent.com/python/cpython/main/Lib/test/cjkencodings/euc_kr.txt\n",
            "Resolving raw.githubusercontent.com (raw.githubusercontent.com)... 185.199.110.133, 185.199.111.133, 185.199.108.133, ...\n",
            "Connecting to raw.githubusercontent.com (raw.githubusercontent.com)|185.199.110.133|:443... connected.\n",
            "HTTP request sent, awaiting response... 200 OK\n",
            "Length: 456 [text/plain]\n",
            "Saving to: ‘euc_kr.txt’\n",
            "\n",
            "\reuc_kr.txt            0%[                    ]       0  --.-KB/s               \reuc_kr.txt          100%[===================>]     456  --.-KB/s    in 0s      \n",
            "\n",
            "2023-09-23 10:02:51 (39.1 MB/s) - ‘euc_kr.txt’ saved [456/456]\n",
            "\n"
          ]
        }
      ]
    },
    {
      "cell_type": "code",
      "source": [
        "!pip install chardet"
      ],
      "metadata": {
        "colab": {
          "base_uri": "https://localhost:8080/"
        },
        "id": "ZavT3KfugBo7",
        "outputId": "4f8b60eb-ec93-4adf-942f-a61445bee7e9"
      },
      "execution_count": null,
      "outputs": [
        {
          "output_type": "stream",
          "name": "stdout",
          "text": [
            "Requirement already satisfied: chardet in /usr/local/lib/python3.10/dist-packages (5.2.0)\n"
          ]
        }
      ]
    },
    {
      "cell_type": "code",
      "source": [
        "!chardetect cp949-utf8.txt"
      ],
      "metadata": {
        "colab": {
          "base_uri": "https://localhost:8080/"
        },
        "id": "OdruyLAFgCve",
        "outputId": "e63d9dd7-cb72-4c2c-dba3-4c8ac5e9ec40"
      },
      "execution_count": null,
      "outputs": [
        {
          "output_type": "stream",
          "name": "stdout",
          "text": [
            "cp949-utf8.txt: utf-8 with confidence 0.99\n"
          ]
        }
      ]
    },
    {
      "cell_type": "code",
      "source": [
        "!chardetect euc_kr.txt"
      ],
      "metadata": {
        "colab": {
          "base_uri": "https://localhost:8080/"
        },
        "id": "IxE0_cWrgMTA",
        "outputId": "993b6d53-ec9f-4c2a-ff87-5d27586ac351"
      },
      "execution_count": null,
      "outputs": [
        {
          "output_type": "stream",
          "name": "stdout",
          "text": [
            "euc_kr.txt: EUC-KR with confidence 0.99\n"
          ]
        }
      ]
    },
    {
      "cell_type": "code",
      "source": [
        "!chardetect new_file.txt"
      ],
      "metadata": {
        "colab": {
          "base_uri": "https://localhost:8080/"
        },
        "id": "KvY31GV1jmSh",
        "outputId": "f041ef06-70ce-49b9-d7cb-9465d7f87b38"
      },
      "execution_count": null,
      "outputs": [
        {
          "output_type": "stream",
          "name": "stdout",
          "text": [
            "new_file.txt: utf-8 with confidence 0.99\n"
          ]
        }
      ]
    },
    {
      "cell_type": "code",
      "source": [
        "!cat new_file.txt"
      ],
      "metadata": {
        "colab": {
          "base_uri": "https://localhost:8080/"
        },
        "id": "tx-vpsJ9jdyC",
        "outputId": "ca7cec64-0d00-46d4-f516-6dc1afd81678"
      },
      "execution_count": null,
      "outputs": [
        {
          "output_type": "stream",
          "name": "stdout",
          "text": [
            "◎ 파이썬(Python)은 배우기 쉽고, 강력한 프로그래밍 언어입니다. 파이썬은\n",
            "효율적인 고수준 데이터 구조와 간단하지만 효율적인 객체지향프로그래밍을\n",
            "지원합니다. 파이썬의 우아(優雅)한 문법과 동적 타이핑, 그리고 인터프리팅\n",
            "환경은 파이썬을 스크립팅과 여러 분야에서와 대부분의 플랫폼에서의 빠른\n",
            "애플리케이션 개발을 할 수 있는 이상적인 언어로 만들어줍니다.\n",
            "\n",
            "☆첫가끝: 날아라 ㅤㅆㅠㅤㅤㅆㅠㅤ쓩~ ㅤㄴㅢㅇ큼! ㅤㄸㅡㅇ금없이 전ㅤㅎㅘㅂ니다. ㅤㅂㅞㄺ. 그런거 ㅤㅇㅡㅄ다.\n"
          ]
        }
      ]
    },
    {
      "cell_type": "code",
      "source": [
        "!iconv -f euc-kr -t utf-8 euc_kr.txt > new_file.txt\n",
        "!cat euc_kr.txt\n"
      ],
      "metadata": {
        "colab": {
          "base_uri": "https://localhost:8080/"
        },
        "id": "KCZkFNEyhLpX",
        "outputId": "bb77c9d2-aa4e-4128-b00a-45b341c10f5a"
      },
      "execution_count": null,
      "outputs": [
        {
          "output_type": "stream",
          "name": "stdout",
          "text": [
            "�� ���̽�(Python)�� ���� ����, ������ ���α׷��� ����Դϴ�. ���̽���\n",
            "ȿ������ ������ ������ ������ ���������� ȿ������ ��ü�������α׷�����\n",
            "�����մϴ�. ���̽��� ���(���)�� ������ ���� Ÿ����, �׸��� ����������\n",
            "ȯ���� ���̽��� ��ũ���ð� ���� �о߿����� ��κ��� �÷��������� ����\n",
            "���ø����̼� ������ �� �� �ִ� �̻����� ���� ������ݴϴ�.\n",
            "\n",
            "��ù����: ���ƶ� �Ԥ��ФԤԤ��ФԾ�~ �Ԥ��Ҥ�ŭ! �Ԥ��Ѥ��ݾ��� ���Ԥ��Ȥ��ϴ�. �Ԥ��Τ�. �׷��� �Ԥ��Ѥ���.\n"
          ]
        }
      ]
    },
    {
      "cell_type": "code",
      "source": [
        "s = open('euc_kr.txt', 'r', encoding = 'euc-kr').read()\n",
        "print(s)"
      ],
      "metadata": {
        "colab": {
          "base_uri": "https://localhost:8080/"
        },
        "id": "vChUNEU0kr0i",
        "outputId": "016f1ee7-66ef-484f-8641-1d640d84bea8"
      },
      "execution_count": null,
      "outputs": [
        {
          "output_type": "stream",
          "name": "stdout",
          "text": [
            "◎ 파이썬(Python)은 배우기 쉽고, 강력한 프로그래밍 언어입니다. 파이썬은\n",
            "효율적인 고수준 데이터 구조와 간단하지만 효율적인 객체지향프로그래밍을\n",
            "지원합니다. 파이썬의 우아(優雅)한 문법과 동적 타이핑, 그리고 인터프리팅\n",
            "환경은 파이썬을 스크립팅과 여러 분야에서와 대부분의 플랫폼에서의 빠른\n",
            "애플리케이션 개발을 할 수 있는 이상적인 언어로 만들어줍니다.\n",
            "\n",
            "☆첫가끝: 날아라 쓔쓔쓩~ 닁큼! 뜽금없이 전홥니다. 뷁. 그런거 읎다.\n",
            "\n"
          ]
        }
      ]
    },
    {
      "cell_type": "code",
      "source": [
        "f = open('new_encoding.txt', 'w', encoding='utf-8')\n",
        "f.write(s)\n",
        "f.close()\n",
        "!chardetect new_encoding.txt"
      ],
      "metadata": {
        "colab": {
          "base_uri": "https://localhost:8080/"
        },
        "id": "gECi792kk5fe",
        "outputId": "6a0eacb8-3099-43b0-851c-874621a1c954"
      },
      "execution_count": null,
      "outputs": [
        {
          "output_type": "stream",
          "name": "stdout",
          "text": [
            "new_encoding.txt: utf-8 with confidence 0.99\n"
          ]
        }
      ]
    },
    {
      "cell_type": "code",
      "source": [
        "!cat cp949-utf8.txt"
      ],
      "metadata": {
        "colab": {
          "base_uri": "https://localhost:8080/"
        },
        "id": "YuW3eu9_gnMC",
        "outputId": "49783337-43cb-4c26-9dc2-bb94eb2e1a37"
      },
      "execution_count": null,
      "outputs": [
        {
          "output_type": "stream",
          "name": "stdout",
          "text": [
            "똠방각하 펲시콜라\n",
            "\n",
            "㉯㉯납!! 因九月패믤릔궈 ⓡⓖ훀¿¿¿ 긍뒙 ⓔ뎨 ㉯. .\n",
            "亞영ⓔ능횹 . . . . 서울뤄 뎐학乙 家훀 ! ! !ㅠ.ㅠ\n",
            "흐흐흐 ㄱㄱㄱ☆ㅠ_ㅠ 어릨 탸콰긐 뎌응 칑九들乙 ㉯드긐\n",
            "설릌 家훀 . . . . 굴애쉌 ⓔ궈 ⓡ릘㉱긐 因仁川女中까즼\n",
            "와쒀훀 ! ! 亞영ⓔ 家능궈 ☆上관 없능궈능 亞능뒈훀 글애듴\n",
            "ⓡ려듀九 싀풔숴훀 어릨 因仁川女中싁⑨들앜!! ㉯㉯납♡ ⌒⌒*\n",
            "\n"
          ]
        }
      ]
    },
    {
      "cell_type": "markdown",
      "source": [
        "# **데이터 다루기**"
      ],
      "metadata": {
        "id": "DOnRfzE6l0AK"
      }
    },
    {
      "cell_type": "code",
      "source": [
        "!wget https://raw.githubusercontent.com/sanajlee/lingdat/master/students.tsv"
      ],
      "metadata": {
        "colab": {
          "base_uri": "https://localhost:8080/"
        },
        "id": "jGysBR8Bl50t",
        "outputId": "80592c37-0804-4699-858d-4a7d0726a094"
      },
      "execution_count": null,
      "outputs": [
        {
          "output_type": "stream",
          "name": "stdout",
          "text": [
            "--2023-09-23 10:31:30--  https://raw.githubusercontent.com/sanajlee/lingdat/master/students.tsv\n",
            "Resolving raw.githubusercontent.com (raw.githubusercontent.com)... 185.199.108.133, 185.199.109.133, 185.199.110.133, ...\n",
            "Connecting to raw.githubusercontent.com (raw.githubusercontent.com)|185.199.108.133|:443... connected.\n",
            "HTTP request sent, awaiting response... 200 OK\n",
            "Length: 214 [text/plain]\n",
            "Saving to: ‘students.tsv’\n",
            "\n",
            "\rstudents.tsv          0%[                    ]       0  --.-KB/s               \rstudents.tsv        100%[===================>]     214  --.-KB/s    in 0s      \n",
            "\n",
            "2023-09-23 10:31:31 (11.0 MB/s) - ‘students.tsv’ saved [214/214]\n",
            "\n"
          ]
        }
      ]
    },
    {
      "cell_type": "code",
      "source": [
        "freshman = []\n",
        "with open('students.tsv', 'r', encoding='utf-8') as f:\n",
        "    lines = f.readlines()\n",
        "    for line in lines:\n",
        "        fields = line.strip().split('\\t')\n",
        "        if fields[0] == '1':\n",
        "            freshman.append(fields[2])\n",
        "print(freshman)\n"
      ],
      "metadata": {
        "colab": {
          "base_uri": "https://localhost:8080/"
        },
        "id": "FmhtTiSymD79",
        "outputId": "761b501e-24d7-4171-fe54-b02aa6077afd"
      },
      "execution_count": null,
      "outputs": [
        {
          "output_type": "stream",
          "name": "stdout",
          "text": [
            "['김뽀삐', '송초코']\n"
          ]
        }
      ]
    },
    {
      "cell_type": "code",
      "source": [
        "students = {}\n",
        "\n",
        "with open('students.tsv', 'r', encoding = 'utf-8') as f:\n",
        "    lines = f.readlines()\n",
        "    for line in lines:\n",
        "        year, cls, name, words = line.strip().split('\\t')\n",
        "        students[name] = {'year':year, 'class':cls, 'words':words}\n",
        "for k,v in students.items():\n",
        "    print(k,v)"
      ],
      "metadata": {
        "colab": {
          "base_uri": "https://localhost:8080/"
        },
        "id": "SDi_6m4xnszO",
        "outputId": "76dfe0ae-aff3-4bb2-8ee8-bb2257d13416"
      },
      "execution_count": null,
      "outputs": [
        {
          "output_type": "stream",
          "name": "stdout",
          "text": [
            "김뽀삐 {'year': '1', 'class': '1', 'words': '단발머리 하고 지난 일은 잊고'}\n",
            "송초코 {'year': '1', 'class': '9', 'words': '나 새롭게 태어날 거예요'}\n",
            "이야옹 {'year': '2', 'class': '7', 'words': \"It's gonna be fine\"}\n",
            "한재훈 {'year': '3', 'class': '5', 'words': '얘들아 3년 동안 수고했고 나중에 웃으면서 보자'}\n"
          ]
        }
      ]
    },
    {
      "cell_type": "code",
      "source": [
        "import csv\n",
        "\n",
        "with open('students.tsv', 'r') as csvfile:\n",
        "    reader = csv.reader(csvfile, delimiter='\\t')\n",
        "    print(reader)\n",
        "    print(list(reader))"
      ],
      "metadata": {
        "colab": {
          "base_uri": "https://localhost:8080/"
        },
        "id": "kxkkbhGYo3Be",
        "outputId": "92e0b15f-707f-4073-98ac-a4936572f726"
      },
      "execution_count": null,
      "outputs": [
        {
          "output_type": "stream",
          "name": "stdout",
          "text": [
            "<_csv.reader object at 0x792cef17de00>\n",
            "[['1', '1', '김뽀삐', '단발머리 하고 지난 일은 잊고'], ['1', '9', '송초코', '나 새롭게 태어날 거예요'], ['2', '7', '이야옹', \"It's gonna be fine\"], ['3', '5', '한재훈', '얘들아 3년 동안 수고했고 나중에 웃으면서 보자']]\n"
          ]
        }
      ]
    },
    {
      "cell_type": "code",
      "source": [
        "import csv\n",
        "\n",
        "with open('students.tsv','r') as csvfile:\n",
        "    reader = csv.reader(csvfile, delimiter='\\t')\n",
        "    #print(list(reader))\n",
        "    for r in reader:\n",
        "        print(r)"
      ],
      "metadata": {
        "colab": {
          "base_uri": "https://localhost:8080/"
        },
        "id": "89X0Bz24q8hF",
        "outputId": "e2d242a0-6068-4034-d914-7391eee67d1b"
      },
      "execution_count": null,
      "outputs": [
        {
          "output_type": "stream",
          "name": "stdout",
          "text": [
            "['1', '1', '김뽀삐', '단발머리 하고 지난 일은 잊고']\n",
            "['1', '9', '송초코', '나 새롭게 태어날 거예요']\n",
            "['2', '7', '이야옹', \"It's gonna be fine\"]\n",
            "['3', '5', '한재훈', '얘들아 3년 동안 수고했고 나중에 웃으면서 보자']\n"
          ]
        }
      ]
    },
    {
      "cell_type": "code",
      "source": [
        "!wget https://raw.githubusercontent.com/sanajlee/lingdat/master/students_header.csv"
      ],
      "metadata": {
        "colab": {
          "base_uri": "https://localhost:8080/"
        },
        "id": "fyzAgM2srUOV",
        "outputId": "b1a00a50-f241-48ce-950a-0f740e9718f9"
      },
      "execution_count": null,
      "outputs": [
        {
          "output_type": "stream",
          "name": "stdout",
          "text": [
            "--2023-09-23 10:55:11--  https://raw.githubusercontent.com/sanajlee/lingdat/master/students_header.csv\n",
            "Resolving raw.githubusercontent.com (raw.githubusercontent.com)... 185.199.108.133, 185.199.109.133, 185.199.110.133, ...\n",
            "Connecting to raw.githubusercontent.com (raw.githubusercontent.com)|185.199.108.133|:443... connected.\n",
            "HTTP request sent, awaiting response... 200 OK\n",
            "Length: 239 [text/plain]\n",
            "Saving to: ‘students_header.csv’\n",
            "\n",
            "\rstudents_header.csv   0%[                    ]       0  --.-KB/s               \rstudents_header.csv 100%[===================>]     239  --.-KB/s    in 0s      \n",
            "\n",
            "2023-09-23 10:55:11 (11.4 MB/s) - ‘students_header.csv’ saved [239/239]\n",
            "\n"
          ]
        }
      ]
    },
    {
      "cell_type": "code",
      "source": [
        "with open('students_header.csv','r') as csvfile:\n",
        "    reader = csv.reader(csvfile, delimiter=',')\n",
        "\n",
        "    next(reader)\n",
        "\n",
        "    for row in reader:\n",
        "        print(row)"
      ],
      "metadata": {
        "colab": {
          "base_uri": "https://localhost:8080/"
        },
        "id": "n50rzEAdrg7l",
        "outputId": "490ac0f5-a708-4b25-baee-8a50e697ac2d"
      },
      "execution_count": null,
      "outputs": [
        {
          "output_type": "stream",
          "name": "stdout",
          "text": [
            "['1', '1', '김뽀삐', '단발머리 하고 지난 일은 잊고']\n",
            "['1', '9', '송초코', '나 새롭게 태어날 거예요']\n",
            "['2', '7', '이야옹', \"It's gonna be fine\"]\n",
            "['3', '5', '한재훈', '얘들아 3년 동안 수고했고 나중에 웃으면서 보자']\n"
          ]
        }
      ]
    },
    {
      "cell_type": "code",
      "source": [
        "!wget https://raw.githubusercontent.com/sanajlee/lingdat/master/students_quote.csv"
      ],
      "metadata": {
        "colab": {
          "base_uri": "https://localhost:8080/"
        },
        "id": "gthgbE01Nc63",
        "outputId": "e38a539f-d8f1-4dfe-c942-c62d3c1cdd08"
      },
      "execution_count": null,
      "outputs": [
        {
          "output_type": "stream",
          "name": "stdout",
          "text": [
            "--2023-09-23 13:27:55--  https://raw.githubusercontent.com/sanajlee/lingdat/master/students_quote.csv\n",
            "Resolving raw.githubusercontent.com (raw.githubusercontent.com)... 185.199.108.133, 185.199.109.133, 185.199.110.133, ...\n",
            "Connecting to raw.githubusercontent.com (raw.githubusercontent.com)|185.199.108.133|:443... connected.\n",
            "HTTP request sent, awaiting response... 200 OK\n",
            "Length: 225 [text/plain]\n",
            "Saving to: ‘students_quote.csv’\n",
            "\n",
            "\rstudents_quote.csv    0%[                    ]       0  --.-KB/s               \rstudents_quote.csv  100%[===================>]     225  --.-KB/s    in 0s      \n",
            "\n",
            "2023-09-23 13:27:55 (21.5 MB/s) - ‘students_quote.csv’ saved [225/225]\n",
            "\n"
          ]
        }
      ]
    },
    {
      "cell_type": "code",
      "source": [
        "!cat students_quote.csv"
      ],
      "metadata": {
        "colab": {
          "base_uri": "https://localhost:8080/"
        },
        "id": "quPXLzoMNoiY",
        "outputId": "403cabf5-9e5a-474f-f6f1-39ea24a15542"
      },
      "execution_count": null,
      "outputs": [
        {
          "output_type": "stream",
          "name": "stdout",
          "text": [
            "1,1,김뽀삐,\"단발머리 하고, 지난 일은 잊고\"\n",
            "1,9,송초코,\"나, 새롭게 태어날 거예요\"\n",
            "2,7,이야옹,\"It's gonna be fine\"\n",
            "3,5,한재훈,\"얘들아,3년 동안 수고했고 나중에 웃으면서 보자\"\n"
          ]
        }
      ]
    },
    {
      "cell_type": "code",
      "source": [
        "with open('students_quote.csv','r') as haha:\n",
        "    reader = csv.reader(haha, delimiter = ',', quotechar='\"')\n",
        "    for r in reader:\n",
        "        print(r)"
      ],
      "metadata": {
        "colab": {
          "base_uri": "https://localhost:8080/"
        },
        "id": "PeYAlE1ANsrd",
        "outputId": "371ffa0f-862e-4967-ff41-d0dd895b3aec"
      },
      "execution_count": null,
      "outputs": [
        {
          "output_type": "stream",
          "name": "stdout",
          "text": [
            "['1', '1', '김뽀삐', '단발머리 하고, 지난 일은 잊고']\n",
            "['1', '9', '송초코', '나, 새롭게 태어날 거예요']\n",
            "['2', '7', '이야옹', \"It's gonna be fine\"]\n",
            "['3', '5', '한재훈', '얘들아,3년 동안 수고했고 나중에 웃으면서 보자']\n"
          ]
        }
      ]
    },
    {
      "cell_type": "code",
      "source": [
        "with open('new_students.csv','w') as csvfile:\n",
        "    writer = csv.writer(csvfile, delimiter=',', quotechar='\"', quoting = csv.QUOTE_NONNUMERIC)\n",
        "    writer.writerow([1,1,'김뽀삐' ,'야호~'])\n",
        "    writer.writerow(['3']*3 + ['hello world!'])\n",
        "!cat new_students.csv"
      ],
      "metadata": {
        "colab": {
          "base_uri": "https://localhost:8080/"
        },
        "id": "84ZtHzHVPRg5",
        "outputId": "a14e596d-b86d-400b-9825-b2f2fb51b2ae"
      },
      "execution_count": null,
      "outputs": [
        {
          "output_type": "stream",
          "name": "stdout",
          "text": [
            "1,1,\"김뽀삐\",\"야호~\"\r\n",
            "\"3\",\"3\",\"3\",\"hello world!\"\r\n"
          ]
        }
      ]
    },
    {
      "cell_type": "code",
      "source": [
        "import pickle\n",
        "\n",
        "dump = open('students.pkl','wb')\n",
        "pickle.dump(students, dump)\n",
        "dump.close()"
      ],
      "metadata": {
        "id": "DWvT9v9MRwIQ"
      },
      "execution_count": null,
      "outputs": []
    },
    {
      "cell_type": "code",
      "source": [
        "with open('students.pkl','rb') as pkl:\n",
        "    loaded = pickle.load(pkl)\n",
        "    print(type(loaded))\n",
        "\n",
        "    for x,y in loaded.items():\n",
        "        print(x,y)"
      ],
      "metadata": {
        "colab": {
          "base_uri": "https://localhost:8080/"
        },
        "id": "42zo2up0TC5_",
        "outputId": "a9af6b68-a859-45ed-f911-393148137e3a"
      },
      "execution_count": null,
      "outputs": [
        {
          "output_type": "stream",
          "name": "stdout",
          "text": [
            "<class 'dict'>\n",
            "김뽀삐 {'year': '1', 'class': '1', 'words': '단발머리 하고 지난 일은 잊고'}\n",
            "송초코 {'year': '1', 'class': '9', 'words': '나 새롭게 태어날 거예요'}\n",
            "이야옹 {'year': '2', 'class': '7', 'words': \"It's gonna be fine\"}\n",
            "한재훈 {'year': '3', 'class': '5', 'words': '얘들아 3년 동안 수고했고 나중에 웃으면서 보자'}\n"
          ]
        }
      ]
    },
    {
      "cell_type": "code",
      "source": [
        "j_str = '{\"name\":\"리오\", \"age\":24}'\n",
        "print(j_str)"
      ],
      "metadata": {
        "colab": {
          "base_uri": "https://localhost:8080/"
        },
        "id": "9ZaUyDccU4pO",
        "outputId": "ec5ab498-a94a-4eef-996c-ea22816582ea"
      },
      "execution_count": null,
      "outputs": [
        {
          "output_type": "stream",
          "name": "stdout",
          "text": [
            "{\"name\":\"리오\", \"age\":24}\n"
          ]
        }
      ]
    },
    {
      "cell_type": "code",
      "source": [
        "import json\n",
        "\n",
        "j = json.loads(j_str)\n",
        "print(type(j))\n",
        "print(j)"
      ],
      "metadata": {
        "colab": {
          "base_uri": "https://localhost:8080/"
        },
        "id": "05kiuJg_VCt5",
        "outputId": "8e6a9e2f-db8b-4d19-e771-5b55a8075e3d"
      },
      "execution_count": null,
      "outputs": [
        {
          "output_type": "stream",
          "name": "stdout",
          "text": [
            "<class 'dict'>\n",
            "{'name': '리오', 'age': 24}\n"
          ]
        }
      ]
    },
    {
      "cell_type": "code",
      "source": [
        "!wget https://raw.githubusercontent.com/sanajlee/lingdat/master/students2.json"
      ],
      "metadata": {
        "colab": {
          "base_uri": "https://localhost:8080/"
        },
        "id": "0noMB1mpYwIL",
        "outputId": "bf5c2bd7-eef3-4b21-fc68-060c5966fa17"
      },
      "execution_count": null,
      "outputs": [
        {
          "output_type": "stream",
          "name": "stdout",
          "text": [
            "--2023-09-23 14:26:18--  https://raw.githubusercontent.com/sanajlee/lingdat/master/students2.json\n",
            "Resolving raw.githubusercontent.com (raw.githubusercontent.com)... 185.199.109.133, 185.199.110.133, 185.199.108.133, ...\n",
            "Connecting to raw.githubusercontent.com (raw.githubusercontent.com)|185.199.109.133|:443... connected.\n",
            "HTTP request sent, awaiting response... 200 OK\n",
            "Length: 520 [text/plain]\n",
            "Saving to: ‘students2.json’\n",
            "\n",
            "\rstudents2.json        0%[                    ]       0  --.-KB/s               \rstudents2.json      100%[===================>]     520  --.-KB/s    in 0s      \n",
            "\n",
            "2023-09-23 14:26:18 (37.2 MB/s) - ‘students2.json’ saved [520/520]\n",
            "\n"
          ]
        }
      ]
    },
    {
      "cell_type": "code",
      "source": [
        "f = open('students.json','r')\n",
        "print(f.read())\n",
        "f.close()"
      ],
      "metadata": {
        "colab": {
          "base_uri": "https://localhost:8080/"
        },
        "id": "4suwOd6pYz7Q",
        "outputId": "b1cb2119-f76d-4bb0-f2e0-238c63428df2"
      },
      "execution_count": null,
      "outputs": [
        {
          "output_type": "stream",
          "name": "stdout",
          "text": [
            "{\n",
            "\t\"students\": [\n",
            "\t\t{\n",
            "\t\t\t\"year\": 1,\n",
            "\t\t\t\"class\": 1,\n",
            "\t\t\t\"name\": \"김뽀삐\",\n",
            "\t\t\t\"message\": \"단발머리 하고 지난 일은 잊고\",\n",
            "\t\t\t\"is_gosam\": false\n",
            "\t\t},\n",
            "\t\t{\n",
            "\t\t\t\"year\": 1,\n",
            "\t\t\t\"class\": 9,\n",
            "\t\t\t\"name\": \"송초코\",\n",
            "\t\t\t\"message\": \"나 새롭게 태어날 거예요\",\n",
            "\t\t\t\"is_gosam\": false\n",
            "\t\t},\n",
            "\t\t{\n",
            "\t\t\t\"year\": 2,\n",
            "\t\t\t\"class\": 7,\n",
            "\t\t\t\"name\": \"이야옹\",\n",
            "\t\t\t\"message\": \"It's gonna be fine\",\n",
            "\t\t\t\"is_gosam\": false\n",
            "\t\t},\n",
            "\t\t{\n",
            "\t\t\t\"year\": 3,\n",
            "\t\t\t\"class\": 5,\n",
            "\t\t\t\"name\": \"한재훈\",\n",
            "\t\t\t\"message\": \"얘들아 3년 동안 수고했고 나중에 웃으면서 보자\",\n",
            "\t\t\t\"is_gosam\": true\n",
            "\t\t}\n",
            "\t],\n",
            "\n",
            "\t\"total\": 4\n",
            "}\n"
          ]
        }
      ]
    },
    {
      "cell_type": "code",
      "source": [
        "with open('students.json','r') as jsonfile:\n",
        "    s = json.load(jsonfile)\n",
        "    print(s)\n",
        "    print('----------')\n",
        "    print(s['students'][0]['name'])"
      ],
      "metadata": {
        "colab": {
          "base_uri": "https://localhost:8080/"
        },
        "id": "pNU_dywfahnY",
        "outputId": "5e1d57d2-593e-4930-d9b5-2caddd514fa5"
      },
      "execution_count": null,
      "outputs": [
        {
          "output_type": "stream",
          "name": "stdout",
          "text": [
            "{'students': [{'year': 1, 'class': 1, 'name': '김뽀삐', 'message': '단발머리 하고 지난 일은 잊고', 'is_gosam': False}, {'year': 1, 'class': 9, 'name': '송초코', 'message': '나 새롭게 태어날 거예요', 'is_gosam': False}, {'year': 2, 'class': 7, 'name': '이야옹', 'message': \"It's gonna be fine\", 'is_gosam': False}, {'year': 3, 'class': 5, 'name': '한재훈', 'message': '얘들아 3년 동안 수고했고 나중에 웃으면서 보자', 'is_gosam': True}], 'total': 4}\n",
            "----------\n",
            "김뽀삐\n"
          ]
        }
      ]
    },
    {
      "cell_type": "code",
      "source": [
        "!cat students2.json"
      ],
      "metadata": {
        "colab": {
          "base_uri": "https://localhost:8080/"
        },
        "id": "t0OjLvOhbzwu",
        "outputId": "d66897a5-660b-469d-8ec8-0341abf7ceff"
      },
      "execution_count": null,
      "outputs": [
        {
          "output_type": "stream",
          "name": "stdout",
          "text": [
            "{\n",
            "\t\"김뽀삐\":\n",
            "\t\t{\n",
            "\t\t\t\"year\": 1,\n",
            "\t\t\t\"class\": 1,\n",
            "\t\t\t\"message\": \"단발머리 하고 지난 일은 잊고\",\n",
            "\t\t\t\"is_gosam\": false\n",
            "\t\t},\n",
            "\t\"송초코\":\n",
            "\t\t{\n",
            "\t\t\t\"year\": 1,\n",
            "\t\t\t\"class\": 9,\n",
            "\t\t\t\"message\": \"나 새롭게 태어날 거예요\",\n",
            "\t\t\t\"is_gosam\": false\n",
            "\t\t},\n",
            "\t\"이야옹\":\n",
            "\t\t{\n",
            "\t\t\t\"year\": 2,\n",
            "\t\t\t\"class\": 7,\n",
            "\t\t\t\"message\": \"It's gonna be fine\",\n",
            "\t\t\t\"is_gosam\": false\n",
            "\t\t},\n",
            "\t\"한재훈\":\n",
            "\t\t{\n",
            "\t\t\t\"year\": 3,\n",
            "\t\t\t\"class\": 5,\n",
            "\t\t\t\"message\": \"얘들아 3년 동안 수고했고 나중에 웃으면서 보자\",\n",
            "\t\t\t\"is_gosam\": true\n",
            "\t\t}\n",
            "}"
          ]
        }
      ]
    },
    {
      "cell_type": "code",
      "source": [
        "with open('students2.json','r') as jsonfile:\n",
        "    s = json.load(jsonfile)\n",
        "    s['김뽀삐']['year'] = 3\n",
        "    print(s)"
      ],
      "metadata": {
        "colab": {
          "base_uri": "https://localhost:8080/"
        },
        "id": "NmbfNy6Bb1dE",
        "outputId": "ba0e6fed-f84c-4297-c2c7-21eb09a1a244"
      },
      "execution_count": null,
      "outputs": [
        {
          "output_type": "stream",
          "name": "stdout",
          "text": [
            "{'김뽀삐': {'year': 3, 'class': 1, 'message': '단발머리 하고 지난 일은 잊고', 'is_gosam': False}, '송초코': {'year': 1, 'class': 9, 'message': '나 새롭게 태어날 거예요', 'is_gosam': False}, '이야옹': {'year': 2, 'class': 7, 'message': \"It's gonna be fine\", 'is_gosam': False}, '한재훈': {'year': 3, 'class': 5, 'message': '얘들아 3년 동안 수고했고 나중에 웃으면서 보자', 'is_gosam': True}}\n"
          ]
        }
      ]
    },
    {
      "cell_type": "code",
      "source": [
        "with open('students_out.json','w', encoding = 'utf-8') as fout:\n",
        "    json.dump(s, fout, ensure_ascii=False, indent=4)\n",
        "with open('students_out.json','r') as jj:\n",
        "    f = json.load(jj)\n",
        "    print(f)"
      ],
      "metadata": {
        "colab": {
          "base_uri": "https://localhost:8080/"
        },
        "id": "Gg8dz35ScVJi",
        "outputId": "20eae32a-3c68-493d-8f8f-d008e9a90063"
      },
      "execution_count": null,
      "outputs": [
        {
          "output_type": "stream",
          "name": "stdout",
          "text": [
            "{'김뽀삐': {'year': 3, 'class': 1, 'message': '단발머리 하고 지난 일은 잊고', 'is_gosam': False}, '송초코': {'year': 1, 'class': 9, 'message': '나 새롭게 태어날 거예요', 'is_gosam': False}, '이야옹': {'year': 2, 'class': 7, 'message': \"It's gonna be fine\", 'is_gosam': False}, '한재훈': {'year': 3, 'class': 5, 'message': '얘들아 3년 동안 수고했고 나중에 웃으면서 보자', 'is_gosam': True}}\n"
          ]
        }
      ]
    },
    {
      "cell_type": "code",
      "source": [
        "!cat students_out.json"
      ],
      "metadata": {
        "colab": {
          "base_uri": "https://localhost:8080/"
        },
        "id": "yKw85TMXdRX_",
        "outputId": "a51ae8b9-a19b-4606-d6e6-befbaafbca00"
      },
      "execution_count": null,
      "outputs": [
        {
          "output_type": "stream",
          "name": "stdout",
          "text": [
            "{\n",
            "    \"김뽀삐\": {\n",
            "        \"year\": 3,\n",
            "        \"class\": 1,\n",
            "        \"message\": \"단발머리 하고 지난 일은 잊고\",\n",
            "        \"is_gosam\": false\n",
            "    },\n",
            "    \"송초코\": {\n",
            "        \"year\": 1,\n",
            "        \"class\": 9,\n",
            "        \"message\": \"나 새롭게 태어날 거예요\",\n",
            "        \"is_gosam\": false\n",
            "    },\n",
            "    \"이야옹\": {\n",
            "        \"year\": 2,\n",
            "        \"class\": 7,\n",
            "        \"message\": \"It's gonna be fine\",\n",
            "        \"is_gosam\": false\n",
            "    },\n",
            "    \"한재훈\": {\n",
            "        \"year\": 3,\n",
            "        \"class\": 5,\n",
            "        \"message\": \"얘들아 3년 동안 수고했고 나중에 웃으면서 보자\",\n",
            "        \"is_gosam\": true\n",
            "    }\n",
            "}"
          ]
        }
      ]
    },
    {
      "cell_type": "code",
      "source": [],
      "metadata": {
        "id": "wIjqD-BAeqtc"
      },
      "execution_count": null,
      "outputs": []
    }
  ]
}